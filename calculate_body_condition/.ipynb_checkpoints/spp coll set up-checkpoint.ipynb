{
 "cells": [
  {
   "cell_type": "markdown",
   "metadata": {},
   "source": [
    "# Setting up species_collated"
   ]
  },
  {
   "cell_type": "markdown",
   "metadata": {},
   "source": [
    "## set up"
   ]
  },
  {
   "cell_type": "markdown",
   "metadata": {},
   "source": [
    "### import packages"
   ]
  },
  {
   "cell_type": "code",
   "execution_count": 1,
   "metadata": {},
   "outputs": [],
   "source": [
    "import pandas as pd\n",
    "import numpy as np\n",
    "import os,sys\n",
    "import math"
   ]
  },
  {
   "cell_type": "markdown",
   "metadata": {},
   "source": [
    "### set up paths"
   ]
  },
  {
   "cell_type": "code",
   "execution_count": 11,
   "metadata": {},
   "outputs": [],
   "source": [
    "wd = r\"/Users/clarabird/github/Whale_Body_Condition_Analysis\"\n",
    "outs = os.path.join(wd,\"Data\",\"CollatriX_ouputs\")\n",
    "\n",
    "hbkcsv = os.path.join(outs,\"hmpbks_allIDs.csv\")\n",
    "df_h = pd.read_csv(hbkcsv,sep=\",\")\n",
    "\n",
    "gcsv = os.path.join(outs,\"grays_allIDs.csv\")\n",
    "df_g = pd.read_csv(gcsv)\n",
    "\n",
    "mcsv = os.path.join(outs,\"minkes.csv\")\n",
    "df_m = pd.read_csv(mcsv)\n",
    "\n",
    "bcsv = os.path.join(outs,\"blues_allIDs.csv\")\n",
    "df_b = pd.read_csv(bcsv)\n",
    "\n",
    "pcsv = os.path.join(outs,\"pygmys_allIDs.csv\")\n",
    "df_p = pd.read_csv(pcsv)\n",
    "\n",
    "indlist = os.path.join(outs,\"List_of_Individuals-MaRRS.xlsx\")\n",
    "dfih = pd.read_excel(indlist,sheet_name = 'humpbacks')"
   ]
  },
  {
   "cell_type": "markdown",
   "metadata": {},
   "source": [
    "### merge"
   ]
  },
  {
   "cell_type": "code",
   "execution_count": 9,
   "metadata": {},
   "outputs": [],
   "source": [
    "dfh = df_h.merge(dfih[['IDX','Individual.ID','Reproductive_Class']],on = ['IDX'])\n",
    "dfh['Animal_ID'] = dfh['Individual.ID']\n",
    "dfh = dfh.drop(['Individual.ID','IDX','ids?'],axis=1)\n",
    "dfh\n",
    "dfh.to_csv(os.path.join(outs,\"hbacks_repro.csv\"))"
   ]
  },
  {
   "cell_type": "markdown",
   "metadata": {},
   "source": [
    "### concat"
   ]
  },
  {
   "cell_type": "code",
   "execution_count": 12,
   "metadata": {},
   "outputs": [],
   "source": [
    "spcol = pd.concat([dfh,df_g,df_m,df_b,df_p])\n",
    "spcol\n",
    "spcol.to_csv(os.path.join(wd,\"Data\",\"R_inputs\",\"spp_collated.csv\"))"
   ]
  }
 ],
 "metadata": {
  "kernelspec": {
   "display_name": "Python 3",
   "language": "python",
   "name": "python3"
  },
  "language_info": {
   "codemirror_mode": {
    "name": "ipython",
    "version": 3
   },
   "file_extension": ".py",
   "mimetype": "text/x-python",
   "name": "python",
   "nbconvert_exporter": "python",
   "pygments_lexer": "ipython3",
   "version": "3.8.3"
  }
 },
 "nbformat": 4,
 "nbformat_minor": 4
}
